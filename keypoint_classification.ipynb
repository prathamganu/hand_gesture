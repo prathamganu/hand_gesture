{
 "cells": [
  {
   "cell_type": "code",
   "execution_count": 45,
   "metadata": {},
   "outputs": [],
   "source": [
    "import csv\n",
    "\n",
    "import numpy as np\n",
    "import tensorflow as tf\n",
    "from sklearn.model_selection import train_test_split\n",
    "\n",
    "RANDOM_SEED = 42"
   ]
  },
  {
   "cell_type": "markdown",
   "metadata": {},
   "source": [
    "# 各パス指定"
   ]
  },
  {
   "cell_type": "code",
   "execution_count": 46,
   "metadata": {},
   "outputs": [],
   "source": [
    "dataset = 'model/keypoint_classifier/keypoint.csv'\n",
    "model_save_path = 'model/keypoint_classifier/keypoint_classifier.hdf5'"
   ]
  },
  {
   "cell_type": "markdown",
   "metadata": {},
   "source": [
    "# 分類数設定"
   ]
  },
  {
   "cell_type": "code",
   "execution_count": 47,
   "metadata": {},
   "outputs": [],
   "source": [
    "NUM_CLASSES = 7"
   ]
  },
  {
   "cell_type": "markdown",
   "metadata": {},
   "source": [
    "# 学習データ読み込み"
   ]
  },
  {
   "cell_type": "code",
   "execution_count": 48,
   "metadata": {},
   "outputs": [],
   "source": [
    "X_dataset = np.loadtxt(dataset, delimiter=',', dtype='float32', usecols=list(range(1, (21 * 2) + 1)))"
   ]
  },
  {
   "cell_type": "code",
   "execution_count": 49,
   "metadata": {},
   "outputs": [],
   "source": [
    "y_dataset = np.loadtxt(dataset, delimiter=',', dtype='int32', usecols=(0))"
   ]
  },
  {
   "cell_type": "code",
   "execution_count": 50,
   "metadata": {},
   "outputs": [],
   "source": [
    "X_train, X_test, y_train, y_test = train_test_split(X_dataset, y_dataset, train_size=0.75, random_state=RANDOM_SEED)"
   ]
  },
  {
   "cell_type": "markdown",
   "metadata": {},
   "source": [
    "# モデル構築"
   ]
  },
  {
   "cell_type": "code",
   "execution_count": 51,
   "metadata": {},
   "outputs": [],
   "source": [
    "model = tf.keras.models.Sequential([\n",
    "    tf.keras.layers.Input((21 * 2, )),\n",
    "    tf.keras.layers.Dropout(0.2),\n",
    "    tf.keras.layers.Dense(20, activation='relu'),\n",
    "    tf.keras.layers.Dropout(0.4),\n",
    "    tf.keras.layers.Dense(10, activation='relu'),\n",
    "    tf.keras.layers.Dense(NUM_CLASSES, activation='softmax')\n",
    "])"
   ]
  },
  {
   "cell_type": "code",
   "execution_count": 52,
   "metadata": {},
   "outputs": [
    {
     "name": "stdout",
     "output_type": "stream",
     "text": [
      "Model: \"sequential_2\"\n",
      "_________________________________________________________________\n",
      " Layer (type)                Output Shape              Param #   \n",
      "=================================================================\n",
      " dropout_4 (Dropout)         (None, 42)                0         \n",
      "                                                                 \n",
      " dense_6 (Dense)             (None, 20)                860       \n",
      "                                                                 \n",
      " dropout_5 (Dropout)         (None, 20)                0         \n",
      "                                                                 \n",
      " dense_7 (Dense)             (None, 10)                210       \n",
      "                                                                 \n",
      " dense_8 (Dense)             (None, 7)                 77        \n",
      "                                                                 \n",
      "=================================================================\n",
      "Total params: 1147 (4.48 KB)\n",
      "Trainable params: 1147 (4.48 KB)\n",
      "Non-trainable params: 0 (0.00 Byte)\n",
      "_________________________________________________________________\n"
     ]
    }
   ],
   "source": [
    "model.summary()  # tf.keras.utils.plot_model(model, show_shapes=True)"
   ]
  },
  {
   "cell_type": "code",
   "execution_count": 53,
   "metadata": {},
   "outputs": [],
   "source": [
    "# モデルチェックポイントのコールバック\n",
    "cp_callback = tf.keras.callbacks.ModelCheckpoint(model_save_path, verbose=1, save_weights_only=False)\n",
    "# 早期打ち切り用コールバック\n",
    "es_callback = tf.keras.callbacks.EarlyStopping(patience=20, verbose=1)"
   ]
  },
  {
   "cell_type": "code",
   "execution_count": 54,
   "metadata": {},
   "outputs": [],
   "source": [
    "# モデルコンパイル\n",
    "model.compile(\n",
    "    optimizer='adam',\n",
    "    loss='sparse_categorical_crossentropy',\n",
    "    metrics=['accuracy']\n",
    ")"
   ]
  },
  {
   "cell_type": "markdown",
   "metadata": {},
   "source": [
    "# モデル訓練"
   ]
  },
  {
   "cell_type": "code",
   "execution_count": 55,
   "metadata": {
    "scrolled": true
   },
   "outputs": [
    {
     "name": "stdout",
     "output_type": "stream",
     "text": [
      "Epoch 1/1000\n",
      "58/68 [========================>.....] - ETA: 0s - loss: 1.7720 - accuracy: 0.2954\n",
      "Epoch 1: saving model to model/keypoint_classifier\\keypoint_classifier.hdf5\n",
      "68/68 [==============================] - 1s 7ms/step - loss: 1.7674 - accuracy: 0.2948 - val_loss: 1.6365 - val_accuracy: 0.3250\n",
      "Epoch 2/1000\n",
      "28/68 [===========>..................] - ETA: 0s - loss: 1.6844 - accuracy: 0.3153"
     ]
    },
    {
     "name": "stderr",
     "output_type": "stream",
     "text": [
      "C:\\Users\\DELL\\AppData\\Local\\Programs\\Python\\Python310\\lib\\site-packages\\keras\\src\\engine\\training.py:3079: UserWarning: You are saving your model as an HDF5 file via `model.save()`. This file format is considered legacy. We recommend using instead the native Keras format, e.g. `model.save('my_model.keras')`.\n",
      "  saving_api.save_model(\n"
     ]
    },
    {
     "name": "stdout",
     "output_type": "stream",
     "text": [
      "68/68 [==============================] - ETA: 0s - loss: 1.6448 - accuracy: 0.3208\n",
      "Epoch 2: saving model to model/keypoint_classifier\\keypoint_classifier.hdf5\n",
      "68/68 [==============================] - 0s 6ms/step - loss: 1.6448 - accuracy: 0.3208 - val_loss: 1.4976 - val_accuracy: 0.3544\n",
      "Epoch 3/1000\n",
      "57/68 [========================>.....] - ETA: 0s - loss: 1.5432 - accuracy: 0.3509\n",
      "Epoch 3: saving model to model/keypoint_classifier\\keypoint_classifier.hdf5\n",
      "68/68 [==============================] - 0s 6ms/step - loss: 1.5364 - accuracy: 0.3545 - val_loss: 1.3786 - val_accuracy: 0.4699\n",
      "Epoch 4/1000\n",
      "60/68 [=========================>....] - ETA: 0s - loss: 1.4664 - accuracy: 0.3876\n",
      "Epoch 4: saving model to model/keypoint_classifier\\keypoint_classifier.hdf5\n",
      "68/68 [==============================] - 0s 6ms/step - loss: 1.4588 - accuracy: 0.3920 - val_loss: 1.2769 - val_accuracy: 0.5477\n",
      "Epoch 5/1000\n",
      "55/68 [=======================>......] - ETA: 0s - loss: 1.3965 - accuracy: 0.4237\n",
      "Epoch 5: saving model to model/keypoint_classifier\\keypoint_classifier.hdf5\n",
      "68/68 [==============================] - 0s 6ms/step - loss: 1.3886 - accuracy: 0.4255 - val_loss: 1.1899 - val_accuracy: 0.6207\n",
      "Epoch 6/1000\n",
      "58/68 [========================>.....] - ETA: 0s - loss: 1.3429 - accuracy: 0.4500\n",
      "Epoch 6: saving model to model/keypoint_classifier\\keypoint_classifier.hdf5\n",
      "68/68 [==============================] - 0s 6ms/step - loss: 1.3462 - accuracy: 0.4499 - val_loss: 1.1155 - val_accuracy: 0.6504\n",
      "Epoch 7/1000\n",
      "61/68 [=========================>....] - ETA: 0s - loss: 1.2969 - accuracy: 0.4768\n",
      "Epoch 7: saving model to model/keypoint_classifier\\keypoint_classifier.hdf5\n",
      "68/68 [==============================] - 0s 6ms/step - loss: 1.2936 - accuracy: 0.4793 - val_loss: 1.0471 - val_accuracy: 0.6978\n",
      "Epoch 8/1000\n",
      "57/68 [========================>.....] - ETA: 0s - loss: 1.2759 - accuracy: 0.4777\n",
      "Epoch 8: saving model to model/keypoint_classifier\\keypoint_classifier.hdf5\n",
      "68/68 [==============================] - 0s 6ms/step - loss: 1.2763 - accuracy: 0.4798 - val_loss: 1.0060 - val_accuracy: 0.7362\n",
      "Epoch 9/1000\n",
      "59/68 [=========================>....] - ETA: 0s - loss: 1.2457 - accuracy: 0.4995\n",
      "Epoch 9: saving model to model/keypoint_classifier\\keypoint_classifier.hdf5\n",
      "68/68 [==============================] - 0s 5ms/step - loss: 1.2444 - accuracy: 0.4993 - val_loss: 0.9620 - val_accuracy: 0.7317\n",
      "Epoch 10/1000\n",
      "59/68 [=========================>....] - ETA: 0s - loss: 1.2112 - accuracy: 0.5136\n",
      "Epoch 10: saving model to model/keypoint_classifier\\keypoint_classifier.hdf5\n",
      "68/68 [==============================] - 0s 6ms/step - loss: 1.2123 - accuracy: 0.5118 - val_loss: 0.9250 - val_accuracy: 0.7656\n",
      "Epoch 11/1000\n",
      "59/68 [=========================>....] - ETA: 0s - loss: 1.1916 - accuracy: 0.5183\n",
      "Epoch 11: saving model to model/keypoint_classifier\\keypoint_classifier.hdf5\n",
      "68/68 [==============================] - 0s 6ms/step - loss: 1.1948 - accuracy: 0.5189 - val_loss: 0.8891 - val_accuracy: 0.7707\n",
      "Epoch 12/1000\n",
      "61/68 [=========================>....] - ETA: 0s - loss: 1.1666 - accuracy: 0.5296\n",
      "Epoch 12: saving model to model/keypoint_classifier\\keypoint_classifier.hdf5\n",
      "68/68 [==============================] - 0s 5ms/step - loss: 1.1647 - accuracy: 0.5317 - val_loss: 0.8645 - val_accuracy: 0.7797\n",
      "Epoch 13/1000\n",
      "61/68 [=========================>....] - ETA: 0s - loss: 1.1452 - accuracy: 0.5494\n",
      "Epoch 13: saving model to model/keypoint_classifier\\keypoint_classifier.hdf5\n",
      "68/68 [==============================] - 0s 5ms/step - loss: 1.1439 - accuracy: 0.5478 - val_loss: 0.8414 - val_accuracy: 0.7898\n",
      "Epoch 14/1000\n",
      "68/68 [==============================] - ETA: 0s - loss: 1.1371 - accuracy: 0.5463\n",
      "Epoch 14: saving model to model/keypoint_classifier\\keypoint_classifier.hdf5\n",
      "68/68 [==============================] - 0s 6ms/step - loss: 1.1371 - accuracy: 0.5463 - val_loss: 0.8205 - val_accuracy: 0.7936\n",
      "Epoch 15/1000\n",
      "57/68 [========================>.....] - ETA: 0s - loss: 1.1332 - accuracy: 0.5524\n",
      "Epoch 15: saving model to model/keypoint_classifier\\keypoint_classifier.hdf5\n",
      "68/68 [==============================] - 0s 5ms/step - loss: 1.1254 - accuracy: 0.5527 - val_loss: 0.8033 - val_accuracy: 0.8150\n",
      "Epoch 16/1000\n",
      "60/68 [=========================>....] - ETA: 0s - loss: 1.1184 - accuracy: 0.5598\n",
      "Epoch 16: saving model to model/keypoint_classifier\\keypoint_classifier.hdf5\n",
      "68/68 [==============================] - 0s 6ms/step - loss: 1.1114 - accuracy: 0.5602 - val_loss: 0.7843 - val_accuracy: 0.8057\n",
      "Epoch 17/1000\n",
      "58/68 [========================>.....] - ETA: 0s - loss: 1.1006 - accuracy: 0.5695\n",
      "Epoch 17: saving model to model/keypoint_classifier\\keypoint_classifier.hdf5\n",
      "68/68 [==============================] - 0s 6ms/step - loss: 1.0963 - accuracy: 0.5698 - val_loss: 0.7625 - val_accuracy: 0.8254\n",
      "Epoch 18/1000\n",
      "57/68 [========================>.....] - ETA: 0s - loss: 1.0860 - accuracy: 0.5635\n",
      "Epoch 18: saving model to model/keypoint_classifier\\keypoint_classifier.hdf5\n",
      "68/68 [==============================] - 0s 6ms/step - loss: 1.0842 - accuracy: 0.5633 - val_loss: 0.7502 - val_accuracy: 0.8351\n",
      "Epoch 19/1000\n",
      "59/68 [=========================>....] - ETA: 0s - loss: 1.0772 - accuracy: 0.5735\n",
      "Epoch 19: saving model to model/keypoint_classifier\\keypoint_classifier.hdf5\n",
      "68/68 [==============================] - 0s 6ms/step - loss: 1.0805 - accuracy: 0.5728 - val_loss: 0.7393 - val_accuracy: 0.8423\n",
      "Epoch 20/1000\n",
      "60/68 [=========================>....] - ETA: 0s - loss: 1.0692 - accuracy: 0.5859\n",
      "Epoch 20: saving model to model/keypoint_classifier\\keypoint_classifier.hdf5\n",
      "68/68 [==============================] - 0s 6ms/step - loss: 1.0699 - accuracy: 0.5837 - val_loss: 0.7304 - val_accuracy: 0.8406\n",
      "Epoch 21/1000\n",
      "58/68 [========================>.....] - ETA: 0s - loss: 1.0820 - accuracy: 0.5791\n",
      "Epoch 21: saving model to model/keypoint_classifier\\keypoint_classifier.hdf5\n",
      "68/68 [==============================] - 0s 5ms/step - loss: 1.0767 - accuracy: 0.5817 - val_loss: 0.7248 - val_accuracy: 0.8237\n",
      "Epoch 22/1000\n",
      "66/68 [============================>.] - ETA: 0s - loss: 1.0586 - accuracy: 0.5898\n",
      "Epoch 22: saving model to model/keypoint_classifier\\keypoint_classifier.hdf5\n",
      "68/68 [==============================] - 0s 5ms/step - loss: 1.0585 - accuracy: 0.5902 - val_loss: 0.7062 - val_accuracy: 0.8423\n",
      "Epoch 23/1000\n",
      "59/68 [=========================>....] - ETA: 0s - loss: 1.0455 - accuracy: 0.5890\n",
      "Epoch 23: saving model to model/keypoint_classifier\\keypoint_classifier.hdf5\n",
      "68/68 [==============================] - 0s 6ms/step - loss: 1.0451 - accuracy: 0.5920 - val_loss: 0.6923 - val_accuracy: 0.8665\n",
      "Epoch 24/1000\n",
      "62/68 [==========================>...] - ETA: 0s - loss: 1.0349 - accuracy: 0.6003\n",
      "Epoch 24: saving model to model/keypoint_classifier\\keypoint_classifier.hdf5\n",
      "68/68 [==============================] - 0s 5ms/step - loss: 1.0358 - accuracy: 0.6014 - val_loss: 0.6927 - val_accuracy: 0.8375\n",
      "Epoch 25/1000\n",
      "63/68 [==========================>...] - ETA: 0s - loss: 1.0313 - accuracy: 0.5905\n",
      "Epoch 25: saving model to model/keypoint_classifier\\keypoint_classifier.hdf5\n",
      "68/68 [==============================] - 0s 5ms/step - loss: 1.0291 - accuracy: 0.5922 - val_loss: 0.6700 - val_accuracy: 0.8627\n",
      "Epoch 26/1000\n",
      "60/68 [=========================>....] - ETA: 0s - loss: 1.0380 - accuracy: 0.5986\n",
      "Epoch 26: saving model to model/keypoint_classifier\\keypoint_classifier.hdf5\n",
      "68/68 [==============================] - 0s 5ms/step - loss: 1.0341 - accuracy: 0.6021 - val_loss: 0.6674 - val_accuracy: 0.8541\n",
      "Epoch 27/1000\n",
      "61/68 [=========================>....] - ETA: 0s - loss: 1.0196 - accuracy: 0.6019\n",
      "Epoch 27: saving model to model/keypoint_classifier\\keypoint_classifier.hdf5\n",
      "68/68 [==============================] - 0s 6ms/step - loss: 1.0182 - accuracy: 0.6028 - val_loss: 0.6638 - val_accuracy: 0.8326\n",
      "Epoch 28/1000\n",
      "59/68 [=========================>....] - ETA: 0s - loss: 1.0110 - accuracy: 0.5944\n",
      "Epoch 28: saving model to model/keypoint_classifier\\keypoint_classifier.hdf5\n",
      "68/68 [==============================] - 0s 6ms/step - loss: 1.0163 - accuracy: 0.5941 - val_loss: 0.6623 - val_accuracy: 0.8084\n",
      "Epoch 29/1000\n",
      "58/68 [========================>.....] - ETA: 0s - loss: 1.0104 - accuracy: 0.6065\n",
      "Epoch 29: saving model to model/keypoint_classifier\\keypoint_classifier.hdf5\n",
      "68/68 [==============================] - 0s 5ms/step - loss: 1.0090 - accuracy: 0.6067 - val_loss: 0.6555 - val_accuracy: 0.8402\n",
      "Epoch 30/1000\n",
      "56/68 [=======================>......] - ETA: 0s - loss: 0.9990 - accuracy: 0.6080\n",
      "Epoch 30: saving model to model/keypoint_classifier\\keypoint_classifier.hdf5\n",
      "68/68 [==============================] - 0s 6ms/step - loss: 1.0054 - accuracy: 0.6048 - val_loss: 0.6491 - val_accuracy: 0.8492\n",
      "Epoch 31/1000\n",
      "61/68 [=========================>....] - ETA: 0s - loss: 0.9906 - accuracy: 0.6187\n",
      "Epoch 31: saving model to model/keypoint_classifier\\keypoint_classifier.hdf5\n",
      "68/68 [==============================] - 0s 6ms/step - loss: 0.9856 - accuracy: 0.6207 - val_loss: 0.6323 - val_accuracy: 0.8527\n",
      "Epoch 32/1000\n",
      "59/68 [=========================>....] - ETA: 0s - loss: 0.9861 - accuracy: 0.6112\n",
      "Epoch 32: saving model to model/keypoint_classifier\\keypoint_classifier.hdf5\n",
      "68/68 [==============================] - 0s 6ms/step - loss: 0.9861 - accuracy: 0.6116 - val_loss: 0.6297 - val_accuracy: 0.8454\n",
      "Epoch 33/1000\n",
      "56/68 [=======================>......] - ETA: 0s - loss: 0.9988 - accuracy: 0.6147\n",
      "Epoch 33: saving model to model/keypoint_classifier\\keypoint_classifier.hdf5\n",
      "68/68 [==============================] - 0s 6ms/step - loss: 0.9985 - accuracy: 0.6149 - val_loss: 0.6304 - val_accuracy: 0.8558\n",
      "Epoch 34/1000\n",
      "59/68 [=========================>....] - ETA: 0s - loss: 0.9833 - accuracy: 0.6165\n",
      "Epoch 34: saving model to model/keypoint_classifier\\keypoint_classifier.hdf5\n",
      "68/68 [==============================] - 0s 5ms/step - loss: 0.9861 - accuracy: 0.6133 - val_loss: 0.6211 - val_accuracy: 0.8447\n",
      "Epoch 35/1000\n",
      "58/68 [========================>.....] - ETA: 0s - loss: 0.9724 - accuracy: 0.6204\n",
      "Epoch 35: saving model to model/keypoint_classifier\\keypoint_classifier.hdf5\n",
      "68/68 [==============================] - 0s 6ms/step - loss: 0.9717 - accuracy: 0.6214 - val_loss: 0.6139 - val_accuracy: 0.8479\n",
      "Epoch 36/1000\n",
      "61/68 [=========================>....] - ETA: 0s - loss: 0.9644 - accuracy: 0.6288\n",
      "Epoch 36: saving model to model/keypoint_classifier\\keypoint_classifier.hdf5\n",
      "68/68 [==============================] - 0s 5ms/step - loss: 0.9695 - accuracy: 0.6267 - val_loss: 0.6062 - val_accuracy: 0.8683\n",
      "Epoch 37/1000\n",
      "65/68 [===========================>..] - ETA: 0s - loss: 0.9605 - accuracy: 0.6219\n",
      "Epoch 37: saving model to model/keypoint_classifier\\keypoint_classifier.hdf5\n",
      "68/68 [==============================] - 0s 5ms/step - loss: 0.9629 - accuracy: 0.6221 - val_loss: 0.6034 - val_accuracy: 0.8358\n",
      "Epoch 38/1000\n",
      "59/68 [=========================>....] - ETA: 0s - loss: 0.9640 - accuracy: 0.6221\n",
      "Epoch 38: saving model to model/keypoint_classifier\\keypoint_classifier.hdf5\n",
      "68/68 [==============================] - 0s 6ms/step - loss: 0.9639 - accuracy: 0.6223 - val_loss: 0.6066 - val_accuracy: 0.8340\n",
      "Epoch 39/1000\n",
      "59/68 [=========================>....] - ETA: 0s - loss: 0.9589 - accuracy: 0.6314\n",
      "Epoch 39: saving model to model/keypoint_classifier\\keypoint_classifier.hdf5\n",
      "68/68 [==============================] - 0s 6ms/step - loss: 0.9605 - accuracy: 0.6316 - val_loss: 0.6024 - val_accuracy: 0.8358\n",
      "Epoch 40/1000\n",
      "53/68 [======================>.......] - ETA: 0s - loss: 0.9633 - accuracy: 0.6216\n",
      "Epoch 40: saving model to model/keypoint_classifier\\keypoint_classifier.hdf5\n",
      "68/68 [==============================] - 0s 5ms/step - loss: 0.9612 - accuracy: 0.6229 - val_loss: 0.5965 - val_accuracy: 0.8485\n",
      "Epoch 41/1000\n",
      "66/68 [============================>.] - ETA: 0s - loss: 0.9374 - accuracy: 0.6420\n",
      "Epoch 41: saving model to model/keypoint_classifier\\keypoint_classifier.hdf5\n",
      "68/68 [==============================] - 0s 5ms/step - loss: 0.9386 - accuracy: 0.6422 - val_loss: 0.5770 - val_accuracy: 0.8762\n",
      "Epoch 42/1000\n",
      "63/68 [==========================>...] - ETA: 0s - loss: 0.9384 - accuracy: 0.6370\n",
      "Epoch 42: saving model to model/keypoint_classifier\\keypoint_classifier.hdf5\n",
      "68/68 [==============================] - 0s 5ms/step - loss: 0.9403 - accuracy: 0.6373 - val_loss: 0.5760 - val_accuracy: 0.8714\n",
      "Epoch 43/1000\n",
      "63/68 [==========================>...] - ETA: 0s - loss: 0.9234 - accuracy: 0.6425\n",
      "Epoch 43: saving model to model/keypoint_classifier\\keypoint_classifier.hdf5\n",
      "68/68 [==============================] - 0s 5ms/step - loss: 0.9246 - accuracy: 0.6405 - val_loss: 0.5696 - val_accuracy: 0.8797\n",
      "Epoch 44/1000\n",
      "58/68 [========================>.....] - ETA: 0s - loss: 0.9424 - accuracy: 0.6325\n",
      "Epoch 44: saving model to model/keypoint_classifier\\keypoint_classifier.hdf5\n",
      "68/68 [==============================] - 0s 5ms/step - loss: 0.9452 - accuracy: 0.6329 - val_loss: 0.5775 - val_accuracy: 0.8721\n",
      "Epoch 45/1000\n",
      "64/68 [===========================>..] - ETA: 0s - loss: 0.9316 - accuracy: 0.6290\n",
      "Epoch 45: saving model to model/keypoint_classifier\\keypoint_classifier.hdf5\n",
      "68/68 [==============================] - 0s 5ms/step - loss: 0.9334 - accuracy: 0.6283 - val_loss: 0.5710 - val_accuracy: 0.8696\n",
      "Epoch 46/1000\n",
      "60/68 [=========================>....] - ETA: 0s - loss: 0.9149 - accuracy: 0.6471\n",
      "Epoch 46: saving model to model/keypoint_classifier\\keypoint_classifier.hdf5\n",
      "68/68 [==============================] - 0s 5ms/step - loss: 0.9225 - accuracy: 0.6447 - val_loss: 0.5573 - val_accuracy: 0.8572\n",
      "Epoch 47/1000\n",
      "59/68 [=========================>....] - ETA: 0s - loss: 0.9330 - accuracy: 0.6364\n",
      "Epoch 47: saving model to model/keypoint_classifier\\keypoint_classifier.hdf5\n",
      "68/68 [==============================] - 0s 5ms/step - loss: 0.9304 - accuracy: 0.6353 - val_loss: 0.5625 - val_accuracy: 0.8748\n",
      "Epoch 48/1000\n",
      "63/68 [==========================>...] - ETA: 0s - loss: 0.9185 - accuracy: 0.6396\n",
      "Epoch 48: saving model to model/keypoint_classifier\\keypoint_classifier.hdf5\n",
      "68/68 [==============================] - 0s 5ms/step - loss: 0.9159 - accuracy: 0.6422 - val_loss: 0.5692 - val_accuracy: 0.8541\n",
      "Epoch 49/1000\n",
      "62/68 [==========================>...] - ETA: 0s - loss: 0.9240 - accuracy: 0.6511\n",
      "Epoch 49: saving model to model/keypoint_classifier\\keypoint_classifier.hdf5\n",
      "68/68 [==============================] - 0s 5ms/step - loss: 0.9223 - accuracy: 0.6502 - val_loss: 0.5455 - val_accuracy: 0.8790\n",
      "Epoch 50/1000\n",
      "56/68 [=======================>......] - ETA: 0s - loss: 0.9199 - accuracy: 0.6497\n",
      "Epoch 50: saving model to model/keypoint_classifier\\keypoint_classifier.hdf5\n",
      "68/68 [==============================] - 0s 6ms/step - loss: 0.9202 - accuracy: 0.6493 - val_loss: 0.5497 - val_accuracy: 0.8804\n",
      "Epoch 51/1000\n",
      "59/68 [=========================>....] - ETA: 0s - loss: 0.9271 - accuracy: 0.6462\n",
      "Epoch 51: saving model to model/keypoint_classifier\\keypoint_classifier.hdf5\n",
      "68/68 [==============================] - 0s 5ms/step - loss: 0.9250 - accuracy: 0.6465 - val_loss: 0.5558 - val_accuracy: 0.8672\n",
      "Epoch 52/1000\n",
      "59/68 [=========================>....] - ETA: 0s - loss: 0.9195 - accuracy: 0.6451\n",
      "Epoch 52: saving model to model/keypoint_classifier\\keypoint_classifier.hdf5\n",
      "68/68 [==============================] - 0s 6ms/step - loss: 0.9131 - accuracy: 0.6482 - val_loss: 0.5511 - val_accuracy: 0.8786\n",
      "Epoch 53/1000\n",
      "60/68 [=========================>....] - ETA: 0s - loss: 0.9169 - accuracy: 0.6408\n",
      "Epoch 53: saving model to model/keypoint_classifier\\keypoint_classifier.hdf5\n",
      "68/68 [==============================] - 0s 5ms/step - loss: 0.9193 - accuracy: 0.6400 - val_loss: 0.5477 - val_accuracy: 0.8579\n",
      "Epoch 54/1000\n",
      "62/68 [==========================>...] - ETA: 0s - loss: 0.9095 - accuracy: 0.6434\n",
      "Epoch 54: saving model to model/keypoint_classifier\\keypoint_classifier.hdf5\n",
      "68/68 [==============================] - 0s 5ms/step - loss: 0.9079 - accuracy: 0.6432 - val_loss: 0.5449 - val_accuracy: 0.8804\n",
      "Epoch 55/1000\n",
      "64/68 [===========================>..] - ETA: 0s - loss: 0.9072 - accuracy: 0.6569\n",
      "Epoch 55: saving model to model/keypoint_classifier\\keypoint_classifier.hdf5\n",
      "68/68 [==============================] - 0s 5ms/step - loss: 0.9048 - accuracy: 0.6578 - val_loss: 0.5444 - val_accuracy: 0.8558\n",
      "Epoch 56/1000\n",
      "65/68 [===========================>..] - ETA: 0s - loss: 0.9130 - accuracy: 0.6500\n",
      "Epoch 56: saving model to model/keypoint_classifier\\keypoint_classifier.hdf5\n",
      "68/68 [==============================] - 0s 6ms/step - loss: 0.9114 - accuracy: 0.6511 - val_loss: 0.5303 - val_accuracy: 0.8921\n",
      "Epoch 57/1000\n",
      "65/68 [===========================>..] - ETA: 0s - loss: 0.9156 - accuracy: 0.6487\n",
      "Epoch 57: saving model to model/keypoint_classifier\\keypoint_classifier.hdf5\n",
      "68/68 [==============================] - 0s 5ms/step - loss: 0.9149 - accuracy: 0.6481 - val_loss: 0.5405 - val_accuracy: 0.8849\n",
      "Epoch 58/1000\n",
      "60/68 [=========================>....] - ETA: 0s - loss: 0.8832 - accuracy: 0.6664\n",
      "Epoch 58: saving model to model/keypoint_classifier\\keypoint_classifier.hdf5\n",
      "68/68 [==============================] - 0s 6ms/step - loss: 0.8877 - accuracy: 0.6642 - val_loss: 0.5215 - val_accuracy: 0.9018\n",
      "Epoch 59/1000\n",
      "60/68 [=========================>....] - ETA: 0s - loss: 0.8985 - accuracy: 0.6605\n",
      "Epoch 59: saving model to model/keypoint_classifier\\keypoint_classifier.hdf5\n",
      "68/68 [==============================] - 0s 5ms/step - loss: 0.9035 - accuracy: 0.6577 - val_loss: 0.5315 - val_accuracy: 0.8779\n",
      "Epoch 60/1000\n",
      "59/68 [=========================>....] - ETA: 0s - loss: 0.8889 - accuracy: 0.6572\n",
      "Epoch 60: saving model to model/keypoint_classifier\\keypoint_classifier.hdf5\n",
      "68/68 [==============================] - 0s 5ms/step - loss: 0.8919 - accuracy: 0.6555 - val_loss: 0.5298 - val_accuracy: 0.8831\n",
      "Epoch 61/1000\n",
      "54/68 [======================>.......] - ETA: 0s - loss: 0.8926 - accuracy: 0.6489\n",
      "Epoch 61: saving model to model/keypoint_classifier\\keypoint_classifier.hdf5\n",
      "68/68 [==============================] - 0s 5ms/step - loss: 0.8799 - accuracy: 0.6568 - val_loss: 0.5171 - val_accuracy: 0.8849\n",
      "Epoch 62/1000\n",
      "61/68 [=========================>....] - ETA: 0s - loss: 0.8755 - accuracy: 0.6595\n",
      "Epoch 62: saving model to model/keypoint_classifier\\keypoint_classifier.hdf5\n",
      "68/68 [==============================] - 0s 6ms/step - loss: 0.8777 - accuracy: 0.6589 - val_loss: 0.5144 - val_accuracy: 0.9056\n",
      "Epoch 63/1000\n",
      "65/68 [===========================>..] - ETA: 0s - loss: 0.8881 - accuracy: 0.6597\n",
      "Epoch 63: saving model to model/keypoint_classifier\\keypoint_classifier.hdf5\n",
      "68/68 [==============================] - 0s 6ms/step - loss: 0.8898 - accuracy: 0.6587 - val_loss: 0.5223 - val_accuracy: 0.8945\n",
      "Epoch 64/1000\n",
      "67/68 [============================>.] - ETA: 0s - loss: 0.8832 - accuracy: 0.6623\n",
      "Epoch 64: saving model to model/keypoint_classifier\\keypoint_classifier.hdf5\n",
      "68/68 [==============================] - 0s 5ms/step - loss: 0.8836 - accuracy: 0.6621 - val_loss: 0.5226 - val_accuracy: 0.8866\n",
      "Epoch 65/1000\n",
      "56/68 [=======================>......] - ETA: 0s - loss: 0.8762 - accuracy: 0.6611\n",
      "Epoch 65: saving model to model/keypoint_classifier\\keypoint_classifier.hdf5\n",
      "68/68 [==============================] - 0s 5ms/step - loss: 0.8836 - accuracy: 0.6598 - val_loss: 0.5207 - val_accuracy: 0.8824\n",
      "Epoch 66/1000\n",
      "55/68 [=======================>......] - ETA: 0s - loss: 0.8808 - accuracy: 0.6594\n",
      "Epoch 66: saving model to model/keypoint_classifier\\keypoint_classifier.hdf5\n",
      "68/68 [==============================] - 0s 5ms/step - loss: 0.8772 - accuracy: 0.6584 - val_loss: 0.5141 - val_accuracy: 0.8887\n",
      "Epoch 67/1000\n",
      "54/68 [======================>.......] - ETA: 0s - loss: 0.8819 - accuracy: 0.6655\n",
      "Epoch 67: saving model to model/keypoint_classifier\\keypoint_classifier.hdf5\n",
      "68/68 [==============================] - 0s 4ms/step - loss: 0.8881 - accuracy: 0.6638 - val_loss: 0.5160 - val_accuracy: 0.8928\n",
      "Epoch 68/1000\n",
      "63/68 [==========================>...] - ETA: 0s - loss: 0.8885 - accuracy: 0.6590\n",
      "Epoch 68: saving model to model/keypoint_classifier\\keypoint_classifier.hdf5\n",
      "68/68 [==============================] - 0s 5ms/step - loss: 0.8888 - accuracy: 0.6583 - val_loss: 0.5242 - val_accuracy: 0.8897\n",
      "Epoch 69/1000\n",
      "62/68 [==========================>...] - ETA: 0s - loss: 0.8923 - accuracy: 0.6554\n",
      "Epoch 69: saving model to model/keypoint_classifier\\keypoint_classifier.hdf5\n",
      "68/68 [==============================] - 0s 5ms/step - loss: 0.8886 - accuracy: 0.6558 - val_loss: 0.5174 - val_accuracy: 0.8755\n",
      "Epoch 70/1000\n",
      "61/68 [=========================>....] - ETA: 0s - loss: 0.8811 - accuracy: 0.6562\n",
      "Epoch 70: saving model to model/keypoint_classifier\\keypoint_classifier.hdf5\n",
      "68/68 [==============================] - 0s 5ms/step - loss: 0.8760 - accuracy: 0.6572 - val_loss: 0.5063 - val_accuracy: 0.9008\n",
      "Epoch 71/1000\n",
      "58/68 [========================>.....] - ETA: 0s - loss: 0.8857 - accuracy: 0.6564\n",
      "Epoch 71: saving model to model/keypoint_classifier\\keypoint_classifier.hdf5\n",
      "68/68 [==============================] - 0s 5ms/step - loss: 0.8787 - accuracy: 0.6622 - val_loss: 0.5133 - val_accuracy: 0.9025\n",
      "Epoch 72/1000\n",
      "52/68 [=====================>........] - ETA: 0s - loss: 0.8616 - accuracy: 0.6641\n",
      "Epoch 72: saving model to model/keypoint_classifier\\keypoint_classifier.hdf5\n",
      "68/68 [==============================] - 0s 5ms/step - loss: 0.8607 - accuracy: 0.6693 - val_loss: 0.5036 - val_accuracy: 0.8921\n",
      "Epoch 73/1000\n",
      "59/68 [=========================>....] - ETA: 0s - loss: 0.8673 - accuracy: 0.6666\n",
      "Epoch 73: saving model to model/keypoint_classifier\\keypoint_classifier.hdf5\n",
      "68/68 [==============================] - 0s 6ms/step - loss: 0.8619 - accuracy: 0.6690 - val_loss: 0.5021 - val_accuracy: 0.9035\n",
      "Epoch 74/1000\n",
      "64/68 [===========================>..] - ETA: 0s - loss: 0.8665 - accuracy: 0.6669\n",
      "Epoch 74: saving model to model/keypoint_classifier\\keypoint_classifier.hdf5\n",
      "68/68 [==============================] - 0s 5ms/step - loss: 0.8675 - accuracy: 0.6676 - val_loss: 0.5147 - val_accuracy: 0.8752\n",
      "Epoch 75/1000\n",
      "66/68 [============================>.] - ETA: 0s - loss: 0.8595 - accuracy: 0.6638\n",
      "Epoch 75: saving model to model/keypoint_classifier\\keypoint_classifier.hdf5\n",
      "68/68 [==============================] - 0s 5ms/step - loss: 0.8619 - accuracy: 0.6627 - val_loss: 0.5032 - val_accuracy: 0.9125\n",
      "Epoch 76/1000\n",
      "65/68 [===========================>..] - ETA: 0s - loss: 0.8526 - accuracy: 0.6738\n",
      "Epoch 76: saving model to model/keypoint_classifier\\keypoint_classifier.hdf5\n",
      "68/68 [==============================] - 0s 5ms/step - loss: 0.8494 - accuracy: 0.6753 - val_loss: 0.4990 - val_accuracy: 0.9073\n",
      "Epoch 77/1000\n",
      "64/68 [===========================>..] - ETA: 0s - loss: 0.8643 - accuracy: 0.6691\n",
      "Epoch 77: saving model to model/keypoint_classifier\\keypoint_classifier.hdf5\n",
      "68/68 [==============================] - 0s 5ms/step - loss: 0.8625 - accuracy: 0.6697 - val_loss: 0.4935 - val_accuracy: 0.8970\n",
      "Epoch 78/1000\n",
      "66/68 [============================>.] - ETA: 0s - loss: 0.8694 - accuracy: 0.6670\n",
      "Epoch 78: saving model to model/keypoint_classifier\\keypoint_classifier.hdf5\n",
      "68/68 [==============================] - 0s 5ms/step - loss: 0.8710 - accuracy: 0.6653 - val_loss: 0.5102 - val_accuracy: 0.8662\n",
      "Epoch 79/1000\n",
      "63/68 [==========================>...] - ETA: 0s - loss: 0.8519 - accuracy: 0.6746\n",
      "Epoch 79: saving model to model/keypoint_classifier\\keypoint_classifier.hdf5\n",
      "68/68 [==============================] - 0s 5ms/step - loss: 0.8510 - accuracy: 0.6738 - val_loss: 0.5041 - val_accuracy: 0.8703\n",
      "Epoch 80/1000\n",
      "62/68 [==========================>...] - ETA: 0s - loss: 0.8597 - accuracy: 0.6701\n",
      "Epoch 80: saving model to model/keypoint_classifier\\keypoint_classifier.hdf5\n",
      "68/68 [==============================] - 0s 5ms/step - loss: 0.8647 - accuracy: 0.6676 - val_loss: 0.5127 - val_accuracy: 0.8714\n",
      "Epoch 81/1000\n",
      "67/68 [============================>.] - ETA: 0s - loss: 0.8548 - accuracy: 0.6714\n",
      "Epoch 81: saving model to model/keypoint_classifier\\keypoint_classifier.hdf5\n",
      "68/68 [==============================] - 0s 5ms/step - loss: 0.8538 - accuracy: 0.6719 - val_loss: 0.5077 - val_accuracy: 0.8859\n",
      "Epoch 82/1000\n",
      "63/68 [==========================>...] - ETA: 0s - loss: 0.8658 - accuracy: 0.6718\n",
      "Epoch 82: saving model to model/keypoint_classifier\\keypoint_classifier.hdf5\n",
      "68/68 [==============================] - 0s 5ms/step - loss: 0.8650 - accuracy: 0.6712 - val_loss: 0.5075 - val_accuracy: 0.8866\n",
      "Epoch 83/1000\n",
      "68/68 [==============================] - ETA: 0s - loss: 0.8480 - accuracy: 0.6670\n",
      "Epoch 83: saving model to model/keypoint_classifier\\keypoint_classifier.hdf5\n",
      "68/68 [==============================] - 0s 5ms/step - loss: 0.8480 - accuracy: 0.6670 - val_loss: 0.5044 - val_accuracy: 0.8907\n",
      "Epoch 84/1000\n",
      "62/68 [==========================>...] - ETA: 0s - loss: 0.8512 - accuracy: 0.6651\n",
      "Epoch 84: saving model to model/keypoint_classifier\\keypoint_classifier.hdf5\n",
      "68/68 [==============================] - 0s 5ms/step - loss: 0.8530 - accuracy: 0.6660 - val_loss: 0.4984 - val_accuracy: 0.8887\n",
      "Epoch 85/1000\n",
      "59/68 [=========================>....] - ETA: 0s - loss: 0.8595 - accuracy: 0.6679\n",
      "Epoch 85: saving model to model/keypoint_classifier\\keypoint_classifier.hdf5\n",
      "68/68 [==============================] - 0s 6ms/step - loss: 0.8540 - accuracy: 0.6699 - val_loss: 0.4907 - val_accuracy: 0.8904\n",
      "Epoch 86/1000\n",
      "64/68 [===========================>..] - ETA: 0s - loss: 0.8467 - accuracy: 0.6771\n",
      "Epoch 86: saving model to model/keypoint_classifier\\keypoint_classifier.hdf5\n",
      "68/68 [==============================] - 0s 5ms/step - loss: 0.8445 - accuracy: 0.6763 - val_loss: 0.4911 - val_accuracy: 0.8990\n",
      "Epoch 87/1000\n",
      "62/68 [==========================>...] - ETA: 0s - loss: 0.8534 - accuracy: 0.6830\n",
      "Epoch 87: saving model to model/keypoint_classifier\\keypoint_classifier.hdf5\n",
      "68/68 [==============================] - 0s 5ms/step - loss: 0.8570 - accuracy: 0.6800 - val_loss: 0.4943 - val_accuracy: 0.8907\n",
      "Epoch 88/1000\n",
      "60/68 [=========================>....] - ETA: 0s - loss: 0.8463 - accuracy: 0.6746\n",
      "Epoch 88: saving model to model/keypoint_classifier\\keypoint_classifier.hdf5\n",
      "68/68 [==============================] - 0s 5ms/step - loss: 0.8490 - accuracy: 0.6708 - val_loss: 0.4996 - val_accuracy: 0.8914\n",
      "Epoch 89/1000\n",
      "68/68 [==============================] - ETA: 0s - loss: 0.8504 - accuracy: 0.6758\n",
      "Epoch 89: saving model to model/keypoint_classifier\\keypoint_classifier.hdf5\n",
      "68/68 [==============================] - 0s 6ms/step - loss: 0.8504 - accuracy: 0.6758 - val_loss: 0.5048 - val_accuracy: 0.8855\n",
      "Epoch 90/1000\n",
      "66/68 [============================>.] - ETA: 0s - loss: 0.8484 - accuracy: 0.6729\n",
      "Epoch 90: saving model to model/keypoint_classifier\\keypoint_classifier.hdf5\n",
      "68/68 [==============================] - 0s 5ms/step - loss: 0.8467 - accuracy: 0.6737 - val_loss: 0.4979 - val_accuracy: 0.8717\n",
      "Epoch 91/1000\n",
      "62/68 [==========================>...] - ETA: 0s - loss: 0.8411 - accuracy: 0.6735\n",
      "Epoch 91: saving model to model/keypoint_classifier\\keypoint_classifier.hdf5\n",
      "68/68 [==============================] - 0s 6ms/step - loss: 0.8462 - accuracy: 0.6704 - val_loss: 0.4981 - val_accuracy: 0.8952\n",
      "Epoch 92/1000\n",
      "64/68 [===========================>..] - ETA: 0s - loss: 0.8452 - accuracy: 0.6752\n",
      "Epoch 92: saving model to model/keypoint_classifier\\keypoint_classifier.hdf5\n",
      "68/68 [==============================] - 0s 5ms/step - loss: 0.8469 - accuracy: 0.6747 - val_loss: 0.4937 - val_accuracy: 0.8838\n",
      "Epoch 93/1000\n",
      "64/68 [===========================>..] - ETA: 0s - loss: 0.8579 - accuracy: 0.6694\n",
      "Epoch 93: saving model to model/keypoint_classifier\\keypoint_classifier.hdf5\n",
      "68/68 [==============================] - 0s 5ms/step - loss: 0.8530 - accuracy: 0.6727 - val_loss: 0.5045 - val_accuracy: 0.8728\n",
      "Epoch 94/1000\n",
      "62/68 [==========================>...] - ETA: 0s - loss: 0.8582 - accuracy: 0.6759\n",
      "Epoch 94: saving model to model/keypoint_classifier\\keypoint_classifier.hdf5\n",
      "68/68 [==============================] - 0s 5ms/step - loss: 0.8527 - accuracy: 0.6775 - val_loss: 0.4980 - val_accuracy: 0.8928\n",
      "Epoch 95/1000\n",
      "66/68 [============================>.] - ETA: 0s - loss: 0.8457 - accuracy: 0.6710\n",
      "Epoch 95: saving model to model/keypoint_classifier\\keypoint_classifier.hdf5\n",
      "68/68 [==============================] - 0s 5ms/step - loss: 0.8469 - accuracy: 0.6716 - val_loss: 0.4951 - val_accuracy: 0.8762\n",
      "Epoch 96/1000\n",
      "68/68 [==============================] - ETA: 0s - loss: 0.8484 - accuracy: 0.6715\n",
      "Epoch 96: saving model to model/keypoint_classifier\\keypoint_classifier.hdf5\n",
      "68/68 [==============================] - 0s 5ms/step - loss: 0.8484 - accuracy: 0.6715 - val_loss: 0.4921 - val_accuracy: 0.8952\n",
      "Epoch 97/1000\n",
      "56/68 [=======================>......] - ETA: 0s - loss: 0.8286 - accuracy: 0.6784\n",
      "Epoch 97: saving model to model/keypoint_classifier\\keypoint_classifier.hdf5\n",
      "68/68 [==============================] - 0s 5ms/step - loss: 0.8312 - accuracy: 0.6800 - val_loss: 0.4985 - val_accuracy: 0.8842\n",
      "Epoch 98/1000\n",
      "61/68 [=========================>....] - ETA: 0s - loss: 0.8271 - accuracy: 0.6844\n",
      "Epoch 98: saving model to model/keypoint_classifier\\keypoint_classifier.hdf5\n",
      "68/68 [==============================] - 0s 5ms/step - loss: 0.8267 - accuracy: 0.6857 - val_loss: 0.4866 - val_accuracy: 0.9046\n",
      "Epoch 99/1000\n",
      "63/68 [==========================>...] - ETA: 0s - loss: 0.8559 - accuracy: 0.6683\n",
      "Epoch 99: saving model to model/keypoint_classifier\\keypoint_classifier.hdf5\n",
      "68/68 [==============================] - 0s 7ms/step - loss: 0.8528 - accuracy: 0.6699 - val_loss: 0.4947 - val_accuracy: 0.8873\n",
      "Epoch 100/1000\n",
      "67/68 [============================>.] - ETA: 0s - loss: 0.8493 - accuracy: 0.6709\n",
      "Epoch 100: saving model to model/keypoint_classifier\\keypoint_classifier.hdf5\n",
      "68/68 [==============================] - 0s 5ms/step - loss: 0.8481 - accuracy: 0.6723 - val_loss: 0.5021 - val_accuracy: 0.8648\n",
      "Epoch 101/1000\n",
      "53/68 [======================>.......] - ETA: 0s - loss: 0.8463 - accuracy: 0.6761\n",
      "Epoch 101: saving model to model/keypoint_classifier\\keypoint_classifier.hdf5\n",
      "68/68 [==============================] - 0s 5ms/step - loss: 0.8404 - accuracy: 0.6752 - val_loss: 0.4942 - val_accuracy: 0.8935\n",
      "Epoch 102/1000\n",
      "66/68 [============================>.] - ETA: 0s - loss: 0.8332 - accuracy: 0.6803\n",
      "Epoch 102: saving model to model/keypoint_classifier\\keypoint_classifier.hdf5\n",
      "68/68 [==============================] - 0s 5ms/step - loss: 0.8373 - accuracy: 0.6800 - val_loss: 0.4895 - val_accuracy: 0.8890\n",
      "Epoch 103/1000\n",
      "67/68 [============================>.] - ETA: 0s - loss: 0.8460 - accuracy: 0.6744\n",
      "Epoch 103: saving model to model/keypoint_classifier\\keypoint_classifier.hdf5\n",
      "68/68 [==============================] - 0s 5ms/step - loss: 0.8435 - accuracy: 0.6750 - val_loss: 0.5018 - val_accuracy: 0.8728\n",
      "Epoch 104/1000\n",
      "56/68 [=======================>......] - ETA: 0s - loss: 0.8301 - accuracy: 0.6851\n",
      "Epoch 104: saving model to model/keypoint_classifier\\keypoint_classifier.hdf5\n",
      "68/68 [==============================] - 0s 5ms/step - loss: 0.8306 - accuracy: 0.6845 - val_loss: 0.4895 - val_accuracy: 0.8973\n",
      "Epoch 105/1000\n",
      "66/68 [============================>.] - ETA: 0s - loss: 0.8366 - accuracy: 0.6851\n",
      "Epoch 105: saving model to model/keypoint_classifier\\keypoint_classifier.hdf5\n",
      "68/68 [==============================] - 0s 5ms/step - loss: 0.8346 - accuracy: 0.6864 - val_loss: 0.4889 - val_accuracy: 0.8814\n",
      "Epoch 106/1000\n",
      "66/68 [============================>.] - ETA: 0s - loss: 0.8342 - accuracy: 0.6844\n",
      "Epoch 106: saving model to model/keypoint_classifier\\keypoint_classifier.hdf5\n",
      "68/68 [==============================] - 0s 5ms/step - loss: 0.8348 - accuracy: 0.6838 - val_loss: 0.4935 - val_accuracy: 0.8921\n",
      "Epoch 107/1000\n",
      "65/68 [===========================>..] - ETA: 0s - loss: 0.8500 - accuracy: 0.6767\n",
      "Epoch 107: saving model to model/keypoint_classifier\\keypoint_classifier.hdf5\n",
      "68/68 [==============================] - 0s 5ms/step - loss: 0.8480 - accuracy: 0.6787 - val_loss: 0.4956 - val_accuracy: 0.8935\n",
      "Epoch 108/1000\n",
      "63/68 [==========================>...] - ETA: 0s - loss: 0.8444 - accuracy: 0.6737\n",
      "Epoch 108: saving model to model/keypoint_classifier\\keypoint_classifier.hdf5\n",
      "68/68 [==============================] - 0s 5ms/step - loss: 0.8460 - accuracy: 0.6727 - val_loss: 0.4943 - val_accuracy: 0.8980\n",
      "Epoch 109/1000\n",
      "63/68 [==========================>...] - ETA: 0s - loss: 0.8362 - accuracy: 0.6766\n",
      "Epoch 109: saving model to model/keypoint_classifier\\keypoint_classifier.hdf5\n",
      "68/68 [==============================] - 0s 5ms/step - loss: 0.8337 - accuracy: 0.6787 - val_loss: 0.4961 - val_accuracy: 0.8849\n",
      "Epoch 110/1000\n",
      "60/68 [=========================>....] - ETA: 0s - loss: 0.8432 - accuracy: 0.6749\n",
      "Epoch 110: saving model to model/keypoint_classifier\\keypoint_classifier.hdf5\n",
      "68/68 [==============================] - 0s 5ms/step - loss: 0.8452 - accuracy: 0.6761 - val_loss: 0.4902 - val_accuracy: 0.8949\n",
      "Epoch 111/1000\n",
      "64/68 [===========================>..] - ETA: 0s - loss: 0.8470 - accuracy: 0.6774\n",
      "Epoch 111: saving model to model/keypoint_classifier\\keypoint_classifier.hdf5\n",
      "68/68 [==============================] - 0s 5ms/step - loss: 0.8467 - accuracy: 0.6788 - val_loss: 0.4810 - val_accuracy: 0.9032\n",
      "Epoch 112/1000\n",
      "66/68 [============================>.] - ETA: 0s - loss: 0.8392 - accuracy: 0.6802\n",
      "Epoch 112: saving model to model/keypoint_classifier\\keypoint_classifier.hdf5\n",
      "68/68 [==============================] - 0s 5ms/step - loss: 0.8371 - accuracy: 0.6799 - val_loss: 0.4936 - val_accuracy: 0.8741\n",
      "Epoch 113/1000\n",
      "62/68 [==========================>...] - ETA: 0s - loss: 0.8235 - accuracy: 0.6919\n",
      "Epoch 113: saving model to model/keypoint_classifier\\keypoint_classifier.hdf5\n",
      "68/68 [==============================] - 0s 5ms/step - loss: 0.8280 - accuracy: 0.6904 - val_loss: 0.4985 - val_accuracy: 0.8658\n",
      "Epoch 114/1000\n",
      "66/68 [============================>.] - ETA: 0s - loss: 0.8217 - accuracy: 0.6881\n",
      "Epoch 114: saving model to model/keypoint_classifier\\keypoint_classifier.hdf5\n",
      "68/68 [==============================] - 0s 5ms/step - loss: 0.8244 - accuracy: 0.6873 - val_loss: 0.4901 - val_accuracy: 0.8893\n",
      "Epoch 115/1000\n",
      "64/68 [===========================>..] - ETA: 0s - loss: 0.8247 - accuracy: 0.6855\n",
      "Epoch 115: saving model to model/keypoint_classifier\\keypoint_classifier.hdf5\n",
      "68/68 [==============================] - 0s 6ms/step - loss: 0.8283 - accuracy: 0.6827 - val_loss: 0.4942 - val_accuracy: 0.8793\n",
      "Epoch 116/1000\n",
      "66/68 [============================>.] - ETA: 0s - loss: 0.8265 - accuracy: 0.6851\n",
      "Epoch 116: saving model to model/keypoint_classifier\\keypoint_classifier.hdf5\n",
      "68/68 [==============================] - 0s 5ms/step - loss: 0.8233 - accuracy: 0.6857 - val_loss: 0.4917 - val_accuracy: 0.8897\n",
      "Epoch 117/1000\n",
      "65/68 [===========================>..] - ETA: 0s - loss: 0.8228 - accuracy: 0.6874\n",
      "Epoch 117: saving model to model/keypoint_classifier\\keypoint_classifier.hdf5\n",
      "68/68 [==============================] - 0s 5ms/step - loss: 0.8262 - accuracy: 0.6867 - val_loss: 0.4894 - val_accuracy: 0.8814\n",
      "Epoch 118/1000\n",
      "67/68 [============================>.] - ETA: 0s - loss: 0.8187 - accuracy: 0.6813\n",
      "Epoch 118: saving model to model/keypoint_classifier\\keypoint_classifier.hdf5\n",
      "68/68 [==============================] - 0s 5ms/step - loss: 0.8200 - accuracy: 0.6810 - val_loss: 0.4874 - val_accuracy: 0.8959\n",
      "Epoch 119/1000\n",
      "63/68 [==========================>...] - ETA: 0s - loss: 0.8266 - accuracy: 0.6856\n",
      "Epoch 119: saving model to model/keypoint_classifier\\keypoint_classifier.hdf5\n",
      "68/68 [==============================] - 0s 5ms/step - loss: 0.8282 - accuracy: 0.6856 - val_loss: 0.4987 - val_accuracy: 0.8738\n",
      "Epoch 120/1000\n",
      "54/68 [======================>.......] - ETA: 0s - loss: 0.8207 - accuracy: 0.6887\n",
      "Epoch 120: saving model to model/keypoint_classifier\\keypoint_classifier.hdf5\n",
      "68/68 [==============================] - 0s 5ms/step - loss: 0.8331 - accuracy: 0.6853 - val_loss: 0.4977 - val_accuracy: 0.8607\n",
      "Epoch 121/1000\n",
      "57/68 [========================>.....] - ETA: 0s - loss: 0.8333 - accuracy: 0.6867\n",
      "Epoch 121: saving model to model/keypoint_classifier\\keypoint_classifier.hdf5\n",
      "68/68 [==============================] - 0s 6ms/step - loss: 0.8334 - accuracy: 0.6846 - val_loss: 0.4927 - val_accuracy: 0.8655\n",
      "Epoch 122/1000\n",
      "65/68 [===========================>..] - ETA: 0s - loss: 0.8274 - accuracy: 0.6885\n",
      "Epoch 122: saving model to model/keypoint_classifier\\keypoint_classifier.hdf5\n",
      "68/68 [==============================] - 0s 5ms/step - loss: 0.8272 - accuracy: 0.6879 - val_loss: 0.4860 - val_accuracy: 0.8776\n",
      "Epoch 123/1000\n",
      "64/68 [===========================>..] - ETA: 0s - loss: 0.8263 - accuracy: 0.6870\n",
      "Epoch 123: saving model to model/keypoint_classifier\\keypoint_classifier.hdf5\n",
      "68/68 [==============================] - 0s 5ms/step - loss: 0.8280 - accuracy: 0.6865 - val_loss: 0.4798 - val_accuracy: 0.8997\n",
      "Epoch 124/1000\n",
      "68/68 [==============================] - ETA: 0s - loss: 0.8221 - accuracy: 0.6782\n",
      "Epoch 124: saving model to model/keypoint_classifier\\keypoint_classifier.hdf5\n",
      "68/68 [==============================] - 0s 5ms/step - loss: 0.8221 - accuracy: 0.6782 - val_loss: 0.4916 - val_accuracy: 0.8779\n",
      "Epoch 125/1000\n",
      "58/68 [========================>.....] - ETA: 0s - loss: 0.8281 - accuracy: 0.6878\n",
      "Epoch 125: saving model to model/keypoint_classifier\\keypoint_classifier.hdf5\n",
      "68/68 [==============================] - 0s 5ms/step - loss: 0.8308 - accuracy: 0.6845 - val_loss: 0.4960 - val_accuracy: 0.8696\n",
      "Epoch 126/1000\n",
      "59/68 [=========================>....] - ETA: 0s - loss: 0.8353 - accuracy: 0.6781\n",
      "Epoch 126: saving model to model/keypoint_classifier\\keypoint_classifier.hdf5\n",
      "68/68 [==============================] - 0s 6ms/step - loss: 0.8362 - accuracy: 0.6793 - val_loss: 0.4845 - val_accuracy: 0.8970\n",
      "Epoch 127/1000\n",
      "66/68 [============================>.] - ETA: 0s - loss: 0.8252 - accuracy: 0.6821\n",
      "Epoch 127: saving model to model/keypoint_classifier\\keypoint_classifier.hdf5\n",
      "68/68 [==============================] - 0s 5ms/step - loss: 0.8250 - accuracy: 0.6820 - val_loss: 0.4902 - val_accuracy: 0.8897\n",
      "Epoch 128/1000\n",
      "53/68 [======================>.......] - ETA: 0s - loss: 0.8242 - accuracy: 0.6803\n",
      "Epoch 128: saving model to model/keypoint_classifier\\keypoint_classifier.hdf5\n",
      "68/68 [==============================] - 0s 5ms/step - loss: 0.8196 - accuracy: 0.6848 - val_loss: 0.4811 - val_accuracy: 0.8911\n",
      "Epoch 129/1000\n",
      "62/68 [==========================>...] - ETA: 0s - loss: 0.8205 - accuracy: 0.6825\n",
      "Epoch 129: saving model to model/keypoint_classifier\\keypoint_classifier.hdf5\n",
      "68/68 [==============================] - 0s 5ms/step - loss: 0.8194 - accuracy: 0.6846 - val_loss: 0.4863 - val_accuracy: 0.8876\n",
      "Epoch 130/1000\n",
      "67/68 [============================>.] - ETA: 0s - loss: 0.8240 - accuracy: 0.6891\n",
      "Epoch 130: saving model to model/keypoint_classifier\\keypoint_classifier.hdf5\n",
      "68/68 [==============================] - 0s 5ms/step - loss: 0.8226 - accuracy: 0.6891 - val_loss: 0.4873 - val_accuracy: 0.8755\n",
      "Epoch 131/1000\n",
      "67/68 [============================>.] - ETA: 0s - loss: 0.8165 - accuracy: 0.6848\n",
      "Epoch 131: saving model to model/keypoint_classifier\\keypoint_classifier.hdf5\n",
      "68/68 [==============================] - 0s 5ms/step - loss: 0.8153 - accuracy: 0.6849 - val_loss: 0.4611 - val_accuracy: 0.9101\n",
      "Epoch 132/1000\n",
      "67/68 [============================>.] - ETA: 0s - loss: 0.8129 - accuracy: 0.6922\n",
      "Epoch 132: saving model to model/keypoint_classifier\\keypoint_classifier.hdf5\n",
      "68/68 [==============================] - 0s 5ms/step - loss: 0.8103 - accuracy: 0.6928 - val_loss: 0.4757 - val_accuracy: 0.8945\n",
      "Epoch 133/1000\n",
      "67/68 [============================>.] - ETA: 0s - loss: 0.8132 - accuracy: 0.6918\n",
      "Epoch 133: saving model to model/keypoint_classifier\\keypoint_classifier.hdf5\n",
      "68/68 [==============================] - 0s 5ms/step - loss: 0.8132 - accuracy: 0.6914 - val_loss: 0.4844 - val_accuracy: 0.8575\n",
      "Epoch 134/1000\n",
      "56/68 [=======================>......] - ETA: 0s - loss: 0.8365 - accuracy: 0.6762\n",
      "Epoch 134: saving model to model/keypoint_classifier\\keypoint_classifier.hdf5\n",
      "68/68 [==============================] - 0s 5ms/step - loss: 0.8315 - accuracy: 0.6797 - val_loss: 0.4845 - val_accuracy: 0.8942\n",
      "Epoch 135/1000\n",
      "66/68 [============================>.] - ETA: 0s - loss: 0.8331 - accuracy: 0.6836\n",
      "Epoch 135: saving model to model/keypoint_classifier\\keypoint_classifier.hdf5\n",
      "68/68 [==============================] - 0s 5ms/step - loss: 0.8318 - accuracy: 0.6846 - val_loss: 0.4781 - val_accuracy: 0.8921\n",
      "Epoch 136/1000\n",
      "61/68 [=========================>....] - ETA: 0s - loss: 0.8368 - accuracy: 0.6755\n",
      "Epoch 136: saving model to model/keypoint_classifier\\keypoint_classifier.hdf5\n",
      "68/68 [==============================] - 0s 6ms/step - loss: 0.8356 - accuracy: 0.6787 - val_loss: 0.4920 - val_accuracy: 0.8655\n",
      "Epoch 137/1000\n",
      "56/68 [=======================>......] - ETA: 0s - loss: 0.8223 - accuracy: 0.6855\n",
      "Epoch 137: saving model to model/keypoint_classifier\\keypoint_classifier.hdf5\n",
      "68/68 [==============================] - 0s 5ms/step - loss: 0.8161 - accuracy: 0.6874 - val_loss: 0.4931 - val_accuracy: 0.8772\n",
      "Epoch 138/1000\n",
      "57/68 [========================>.....] - ETA: 0s - loss: 0.8266 - accuracy: 0.6800\n",
      "Epoch 138: saving model to model/keypoint_classifier\\keypoint_classifier.hdf5\n",
      "68/68 [==============================] - 0s 5ms/step - loss: 0.8281 - accuracy: 0.6795 - val_loss: 0.4951 - val_accuracy: 0.8582\n",
      "Epoch 139/1000\n",
      "67/68 [============================>.] - ETA: 0s - loss: 0.8235 - accuracy: 0.6876\n",
      "Epoch 139: saving model to model/keypoint_classifier\\keypoint_classifier.hdf5\n",
      "68/68 [==============================] - 0s 5ms/step - loss: 0.8228 - accuracy: 0.6880 - val_loss: 0.4823 - val_accuracy: 0.8800\n",
      "Epoch 140/1000\n",
      "52/68 [=====================>........] - ETA: 0s - loss: 0.7939 - accuracy: 0.6928\n",
      "Epoch 140: saving model to model/keypoint_classifier\\keypoint_classifier.hdf5\n",
      "68/68 [==============================] - 0s 5ms/step - loss: 0.8075 - accuracy: 0.6894 - val_loss: 0.4959 - val_accuracy: 0.8503\n",
      "Epoch 141/1000\n",
      "67/68 [============================>.] - ETA: 0s - loss: 0.8241 - accuracy: 0.6888\n",
      "Epoch 141: saving model to model/keypoint_classifier\\keypoint_classifier.hdf5\n",
      "68/68 [==============================] - 0s 5ms/step - loss: 0.8232 - accuracy: 0.6895 - val_loss: 0.4803 - val_accuracy: 0.9015\n",
      "Epoch 142/1000\n",
      "63/68 [==========================>...] - ETA: 0s - loss: 0.8236 - accuracy: 0.6838\n",
      "Epoch 142: saving model to model/keypoint_classifier\\keypoint_classifier.hdf5\n",
      "68/68 [==============================] - 0s 5ms/step - loss: 0.8251 - accuracy: 0.6830 - val_loss: 0.4919 - val_accuracy: 0.8513\n",
      "Epoch 143/1000\n",
      "54/68 [======================>.......] - ETA: 0s - loss: 0.8243 - accuracy: 0.6882\n",
      "Epoch 143: saving model to model/keypoint_classifier\\keypoint_classifier.hdf5\n",
      "68/68 [==============================] - 0s 5ms/step - loss: 0.8261 - accuracy: 0.6859 - val_loss: 0.4913 - val_accuracy: 0.8873\n",
      "Epoch 144/1000\n",
      "52/68 [=====================>........] - ETA: 0s - loss: 0.8161 - accuracy: 0.6866\n",
      "Epoch 144: saving model to model/keypoint_classifier\\keypoint_classifier.hdf5\n",
      "68/68 [==============================] - 0s 5ms/step - loss: 0.8121 - accuracy: 0.6886 - val_loss: 0.4744 - val_accuracy: 0.8918\n",
      "Epoch 145/1000\n",
      "53/68 [======================>.......] - ETA: 0s - loss: 0.8207 - accuracy: 0.6903\n",
      "Epoch 145: saving model to model/keypoint_classifier\\keypoint_classifier.hdf5\n",
      "68/68 [==============================] - 0s 5ms/step - loss: 0.8146 - accuracy: 0.6919 - val_loss: 0.4863 - val_accuracy: 0.8855\n",
      "Epoch 146/1000\n",
      "64/68 [===========================>..] - ETA: 0s - loss: 0.8146 - accuracy: 0.7000\n",
      "Epoch 146: saving model to model/keypoint_classifier\\keypoint_classifier.hdf5\n",
      "68/68 [==============================] - 0s 5ms/step - loss: 0.8129 - accuracy: 0.6985 - val_loss: 0.4849 - val_accuracy: 0.8752\n",
      "Epoch 147/1000\n",
      "68/68 [==============================] - ETA: 0s - loss: 0.8285 - accuracy: 0.6882\n",
      "Epoch 147: saving model to model/keypoint_classifier\\keypoint_classifier.hdf5\n",
      "68/68 [==============================] - 0s 5ms/step - loss: 0.8285 - accuracy: 0.6882 - val_loss: 0.4889 - val_accuracy: 0.8683\n",
      "Epoch 148/1000\n",
      "62/68 [==========================>...] - ETA: 0s - loss: 0.8164 - accuracy: 0.6904\n",
      "Epoch 148: saving model to model/keypoint_classifier\\keypoint_classifier.hdf5\n",
      "68/68 [==============================] - 0s 5ms/step - loss: 0.8242 - accuracy: 0.6863 - val_loss: 0.4878 - val_accuracy: 0.8859\n",
      "Epoch 149/1000\n",
      "63/68 [==========================>...] - ETA: 0s - loss: 0.8279 - accuracy: 0.6851\n",
      "Epoch 149: saving model to model/keypoint_classifier\\keypoint_classifier.hdf5\n",
      "68/68 [==============================] - 0s 5ms/step - loss: 0.8255 - accuracy: 0.6861 - val_loss: 0.4922 - val_accuracy: 0.8866\n",
      "Epoch 150/1000\n",
      "65/68 [===========================>..] - ETA: 0s - loss: 0.8259 - accuracy: 0.6857\n",
      "Epoch 150: saving model to model/keypoint_classifier\\keypoint_classifier.hdf5\n",
      "68/68 [==============================] - 0s 5ms/step - loss: 0.8294 - accuracy: 0.6836 - val_loss: 0.4879 - val_accuracy: 0.8900\n",
      "Epoch 151/1000\n",
      "64/68 [===========================>..] - ETA: 0s - loss: 0.8247 - accuracy: 0.6880\n",
      "Epoch 151: saving model to model/keypoint_classifier\\keypoint_classifier.hdf5\n",
      "68/68 [==============================] - 0s 5ms/step - loss: 0.8197 - accuracy: 0.6899 - val_loss: 0.4956 - val_accuracy: 0.8800\n",
      "Epoch 151: early stopping\n"
     ]
    },
    {
     "data": {
      "text/plain": [
       "<keras.src.callbacks.History at 0x16947713ac0>"
      ]
     },
     "execution_count": 55,
     "metadata": {},
     "output_type": "execute_result"
    }
   ],
   "source": [
    "model.fit(\n",
    "    X_train,\n",
    "    y_train,\n",
    "    epochs=1000,\n",
    "    batch_size=128,\n",
    "    validation_data=(X_test, y_test),\n",
    "    callbacks=[cp_callback, es_callback]\n",
    ")"
   ]
  },
  {
   "cell_type": "code",
   "execution_count": 56,
   "metadata": {},
   "outputs": [
    {
     "name": "stdout",
     "output_type": "stream",
     "text": [
      "23/23 [==============================] - 0s 3ms/step - loss: 0.4956 - accuracy: 0.8800\n"
     ]
    }
   ],
   "source": [
    "# モデル評価\n",
    "val_loss, val_acc = model.evaluate(X_test, y_test, batch_size=128)"
   ]
  },
  {
   "cell_type": "code",
   "execution_count": 57,
   "metadata": {},
   "outputs": [],
   "source": [
    "# 保存したモデルのロード\n",
    "model = tf.keras.models.load_model(model_save_path)"
   ]
  },
  {
   "cell_type": "code",
   "execution_count": 58,
   "metadata": {},
   "outputs": [
    {
     "name": "stdout",
     "output_type": "stream",
     "text": [
      "1/1 [==============================] - 0s 83ms/step\n",
      "[9.1169439e-03 7.4251190e-02 7.8968704e-01 4.5356838e-04 1.1184814e-01\n",
      " 5.2258428e-03 9.4172033e-03]\n",
      "2\n"
     ]
    }
   ],
   "source": [
    "# 推論テスト\n",
    "predict_result = model.predict(np.array([X_test[0]]))\n",
    "print(np.squeeze(predict_result))\n",
    "print(np.argmax(np.squeeze(predict_result)))"
   ]
  },
  {
   "cell_type": "markdown",
   "metadata": {},
   "source": [
    "# 混同行列"
   ]
  },
  {
   "cell_type": "code",
   "execution_count": 59,
   "metadata": {},
   "outputs": [
    {
     "name": "stdout",
     "output_type": "stream",
     "text": [
      "91/91 [==============================] - 0s 2ms/step\n"
     ]
    },
    {
     "data": {
      "image/png": "[encoded data removed]",
      "text/plain": [
       "<Figure size 700x600 with 2 Axes>"
      ]
     },
     "metadata": {},
     "output_type": "display_data"
    },
    {
     "name": "stdout",
     "output_type": "stream",
     "text": [
      "Classification Report\n",
      "              precision    recall  f1-score   support\n",
      "\n",
      "           0       0.97      0.92      0.95       384\n",
      "           1       0.94      0.76      0.84       930\n",
      "           2       0.83      0.98      0.90       580\n",
      "           3       0.87      1.00      0.93        84\n",
      "           4       0.99      0.87      0.92       307\n",
      "           5       0.79      0.93      0.85       357\n",
      "           6       0.78      0.93      0.85       250\n",
      "\n",
      "    accuracy                           0.88      2892\n",
      "   macro avg       0.88      0.91      0.89      2892\n",
      "weighted avg       0.89      0.88      0.88      2892\n",
      "\n"
     ]
    }
   ],
   "source": [
    "import pandas as pd\n",
    "import seaborn as sns\n",
    "import matplotlib.pyplot as plt\n",
    "from sklearn.metrics import confusion_matrix, classification_report\n",
    "\n",
    "def print_confusion_matrix(y_true, y_pred, report=True):\n",
    "    labels = sorted(list(set(y_true)))\n",
    "    cmx_data = confusion_matrix(y_true, y_pred, labels=labels)\n",
    "    \n",
    "    df_cmx = pd.DataFrame(cmx_data, index=labels, columns=labels)\n",
    " \n",
    "    fig, ax = plt.subplots(figsize=(7, 6))\n",
    "    sns.heatmap(df_cmx, annot=True, fmt='g' ,square=False)\n",
    "    ax.set_ylim(len(set(y_true)), 0)\n",
    "    plt.show()\n",
    "    \n",
    "    if report:\n",
    "        print('Classification Report')\n",
    "        print(classification_report(y_test, y_pred))\n",
    "\n",
    "Y_pred = model.predict(X_test)\n",
    "y_pred = np.argmax(Y_pred, axis=1)\n",
    "\n",
    "print_confusion_matrix(y_test, y_pred)"
   ]
  },
  {
   "cell_type": "markdown",
   "metadata": {},
   "source": [
    "# Tensorflow-Lite用のモデルへ変換"
   ]
  },
  {
   "cell_type": "code",
   "execution_count": 60,
   "metadata": {},
   "outputs": [
    {
     "name": "stderr",
     "output_type": "stream",
     "text": [
      "C:\\Users\\DELL\\AppData\\Local\\Programs\\Python\\Python310\\lib\\site-packages\\keras\\src\\engine\\training.py:3079: UserWarning: You are saving your model as an HDF5 file via `model.save()`. This file format is considered legacy. We recommend using instead the native Keras format, e.g. `model.save('my_model.keras')`.\n",
      "  saving_api.save_model(\n"
     ]
    }
   ],
   "source": [
    "# 推論専用のモデルとして保存\n",
    "model.save(model_save_path, include_optimizer=False)"
   ]
  },
  {
   "cell_type": "code",
   "execution_count": 61,
   "metadata": {},
   "outputs": [
    {
     "name": "stdout",
     "output_type": "stream",
     "text": [
      "INFO:tensorflow:Assets written to: C:\\Users\\DELL\\AppData\\Local\\Temp\\tmpi27m_4uu\\assets\n"
     ]
    },
    {
     "name": "stderr",
     "output_type": "stream",
     "text": [
      "INFO:tensorflow:Assets written to: C:\\Users\\DELL\\AppData\\Local\\Temp\\tmpi27m_4uu\\assets\n"
     ]
    },
    {
     "data": {
      "text/plain": [
       "6704"
      ]
     },
     "execution_count": 61,
     "metadata": {},
     "output_type": "execute_result"
    }
   ],
   "source": [
    "# モデルを変換(量子化)\n",
    "tflite_save_path = 'model/keypoint_classifier/keypoint_classifier.tflite'\n",
    "\n",
    "converter = tf.lite.TFLiteConverter.from_keras_model(model)\n",
    "converter.optimizations = [tf.lite.Optimize.DEFAULT]\n",
    "tflite_quantized_model = converter.convert()\n",
    "\n",
    "open(tflite_save_path, 'wb').write(tflite_quantized_model)"
   ]
  },
  {
   "cell_type": "markdown",
   "metadata": {},
   "source": [
    "# 推論テスト"
   ]
  },
  {
   "cell_type": "code",
   "execution_count": 62,
   "metadata": {},
   "outputs": [],
   "source": [
    "interpreter = tf.lite.Interpreter(model_path=tflite_save_path)\n",
    "interpreter.allocate_tensors()"
   ]
  },
  {
   "cell_type": "code",
   "execution_count": 63,
   "metadata": {},
   "outputs": [],
   "source": [
    "# 入出力テンソルを取得\n",
    "input_details = interpreter.get_input_details()\n",
    "output_details = interpreter.get_output_details()"
   ]
  },
  {
   "cell_type": "code",
   "execution_count": 64,
   "metadata": {},
   "outputs": [],
   "source": [
    "interpreter.set_tensor(input_details[0]['index'], np.array([X_test[0]]))"
   ]
  },
  {
   "cell_type": "code",
   "execution_count": 65,
   "metadata": {
    "scrolled": true
   },
   "outputs": [
    {
     "name": "stdout",
     "output_type": "stream",
     "text": [
      "CPU times: total: 0 ns\n",
      "Wall time: 0 ns\n"
     ]
    }
   ],
   "source": [
    "%%time\n",
    "# 推論実施\n",
    "interpreter.invoke()\n",
    "tflite_results = interpreter.get_tensor(output_details[0]['index'])"
   ]
  },
  {
   "cell_type": "code",
   "execution_count": 66,
   "metadata": {},
   "outputs": [
    {
     "name": "stdout",
     "output_type": "stream",
     "text": [
      "[9.11694579e-03 7.42511898e-02 7.89687157e-01 4.53567365e-04\n",
      " 1.11848116e-01 5.22583304e-03 9.41720046e-03]\n",
      "2\n"
     ]
    }
   ],
   "source": [
    "print(np.squeeze(tflite_results))\n",
    "print(np.argmax(np.squeeze(tflite_results)))"
   ]
  }
 ],
 "metadata": {
  "kernelspec": {
   "display_name": "Python 3 (ipykernel)",
   "language": "python",
   "name": "python3"
  },
  "language_info": {
   "codemirror_mode": {
    "name": "ipython",
    "version": 3
   },
   "file_extension": ".py",
   "mimetype": "text/x-python",
   "name": "python",
   "nbconvert_exporter": "python",
   "pygments_lexer": "ipython3",
   "version": "3.10.1"
  }
 },
 "nbformat": 4,
 "nbformat_minor": 4
}
